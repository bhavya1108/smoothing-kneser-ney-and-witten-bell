{
 "cells": [
  {
   "cell_type": "code",
   "execution_count": 8,
   "metadata": {},
   "outputs": [],
   "source": [
    "import numpy\n",
    "import re\n",
    "import random\n",
    "import sys\n",
    "from collections import Counter\n",
    "import string\n",
    "\n",
    "def mention_(word):\n",
    "    temp = word\n",
    "    word = re.sub(\"@(\\w+)\", \" <MENTION>\" , word)\n",
    "    if temp == word:\n",
    "        return False, temp\n",
    "    return True, word\n",
    "\n",
    "def dupl_punc_(word):\n",
    "    punc_set = set(string.punctuation)\n",
    "    new_word = ''\n",
    "    last = '4'\n",
    "    for letter in word:\n",
    "        if letter in punc_set:\n",
    "            if last != letter:\n",
    "                new_word += letter\n",
    "                last = letter\n",
    "        else:\n",
    "            last = letter\n",
    "\n",
    "            new_word += letter\n",
    "    return new_word\n",
    "\n",
    "def url_(word):\n",
    "    var = word\n",
    "    word = re.sub(r\"[(http(s)?):\\/\\/(www\\.)?a-zA-Z0-9@:%._\\+~#=]{2,256}\\.[a-z]{2,6}\\b([-a-zA-Z0-9@:%_\\+.~#?&//=]*)\", \" <URL>\", word)\n",
    "    if var == word:\n",
    "        return False, var \n",
    "    return True , word\n",
    "\n",
    "def hashtag_(word):\n",
    "    temp = word\n",
    "    word = re.sub(\"#(\\w+)\", \" <HASHTAG>\", word)\n",
    "    if temp == word:\n",
    "        return False, temp\n",
    "    return True, word\n",
    "\n",
    "\n",
    "def split_lines(line,n,fl=True):\n",
    "    words = line.split(\" \")\n",
    "    tokens = []\n",
    "    for word in words:\n",
    "        tok =''\n",
    "        ret, tok = url_(word)\n",
    "        if ret == False:\n",
    "            ret,tok = hashtag_(tok)\n",
    "            ret,tok = mention_(tok)\n",
    "            new_word = dupl_punc_(tok)\n",
    "            new_word = re.sub('\\'', \" '\", new_word)\n",
    "            new_word = new_word.split()\n",
    "\n",
    "            for w in new_word:\n",
    "                tokens.append(w)\n",
    "        else:\n",
    "            tokens.append(tok)\n",
    "    if fl==False:\n",
    "        return ' '.join(tokens)\n",
    "    else:\n",
    "        for i in range(n-1):\n",
    "            tokens.insert(0, '<START>')\n",
    "            tokens.insert(len(tokens), '<END>')\n",
    "        return \" \".join(tokens)\n",
    "        \n",
    "\n",
    "\n",
    "def tokenize(file_p,n,fl=True):\n",
    "    # lines.append(\"#ieroween THE STORY OF IEROWEEN! THE VIDEO -»»»»»»»»»»» http://bit.ly/2VFPAV «« JUST FOR FRANK !!! ÃƒÂ§\")\n",
    "    lines = []\n",
    "    \n",
    "    with open(file_p) as f:\n",
    "        lines = f.readlines()\n",
    "    tokens = \"\"\n",
    "    for line in lines:\n",
    "        tokens += split_lines(line[:-1],n,fl) + \"\\n\"\n",
    "    # print(tokens)\n",
    "    return tokens\n",
    "\n"
   ]
  },
  {
   "cell_type": "code",
   "execution_count": 9,
   "metadata": {},
   "outputs": [],
   "source": [
    "\n",
    "\n",
    "tok = tokenize(\"./data/general-tweets.txt\",4,False)\n",
    "with open(\"2019101095_tokenize.txt\",\"w\") as file:\n",
    "    file.write(tok)\n",
    "# print(tok)"
   ]
  },
  {
   "cell_type": "code",
   "execution_count": 79,
   "metadata": {},
   "outputs": [],
   "source": [
    "ngrams_c = {}\n",
    "ngram = []\n",
    "unigram = []\n",
    "bigram = []\n",
    "trigram = []\n",
    "\n",
    "def find_val(gram):\n",
    "    if len(gram) == 0:\n",
    "        return sum(ngrams_c[1].values())\n",
    "    if gram in ngrams_c[len(gram)].keys():\n",
    "        return ngrams_c[len(gram)][gram] \n",
    "    else:\n",
    "        return 0\n",
    "\n",
    "def witten2(gram):\n",
    "    unique = 0\n",
    "    for c in ngrams_c[len(gram)+1].keys():\n",
    "        if(c[:-1] == gram):\n",
    "            \n",
    "            unique += 1\n",
    "    k = float(unique + int(find_val(gram)))\n",
    "    if(k != 0):\n",
    "        return (unique / k)\n",
    "    else:\n",
    "        return random.uniform(0.00001,0.0001)\n",
    "\n",
    "def witten(gram):\n",
    "    x = len(gram)\n",
    "    if x == 1:\n",
    "        return find_val(gram) / sum(ngrams_c[1].values())\n",
    "    if(find_val(gram[:-1]) != 0):\n",
    "        return ((1 - witten2(gram[:-1])) * (find_val(gram) / find_val(gram[:-1]))) + (witten2(gram[:-1]) * witten(gram[:-1]))\n",
    "    else:\n",
    "        return random.uniform(0.00001, 0.0001) +  (witten2(gram[:-1]) * witten(gram[:-1]))\n",
    "    \n",
    "def kneser(gram, maxi):\n",
    "    x = len(gram)\n",
    "    d = 0.75\n",
    "    if find_val(gram[:-1]) == 0:\n",
    "        lamda = random.uniform(0,1)\n",
    "        term = random.uniform(0.00001,0.0001)\n",
    "    else:\n",
    "        if x == maxi:\n",
    "            term = max(0,find_val(gram)-d)/find_val(gram[:-1])\n",
    "        else:\n",
    "            term = max(0,(sum(token[1:] == gram for token in ngrams_c[len(gram) + 1].keys()) - d)) / find_val(gram[:-1])\n",
    "        lamda = d * sum(token[:-1] == gram[:-1] for token in ngrams_c[len(gram)].keys()) / find_val(gram[:-1])\n",
    "    if x == 1:\n",
    "       return term\n",
    "    else:\n",
    "        return term + lamda * kneser(gram[:-1], maxi)"
   ]
  },
  {
   "cell_type": "code",
   "execution_count": 33,
   "metadata": {},
   "outputs": [
    {
     "data": {
      "text/plain": [
       "Counter({'<START> <START>': 4,\n",
       "         '<START> flvnfkjeniu': 1,\n",
       "         'flvnfkjeniu delkjeriu': 1,\n",
       "         'delkjeriu euhegu': 1,\n",
       "         'euhegu heg': 1,\n",
       "         'heg <END>': 1,\n",
       "         '<END> <END>': 4,\n",
       "         '<START> lakebklj': 1,\n",
       "         'lakebklj wkjc': 1,\n",
       "         'wkjc j': 1,\n",
       "         'j deg': 1,\n",
       "         'deg <END>': 1})"
      ]
     },
     "execution_count": 33,
     "metadata": {},
     "output_type": "execute_result"
    }
   ],
   "source": [
    "tokens = (split_lines(\"flvnfkjeniu delkjeriu euhegu heg\",4)).split()\n",
    "ooo=[]\n",
    "for w in range(0,len(tokens)-1):\n",
    "    ooo.append((\" \".join(tokens[w:w+2])))\n",
    "tokens = (split_lines(\"lakebklj wkjc j deg\",4)).split()\n",
    "for w in range(0,len(tokens)-1):\n",
    "    ooo.append((\" \".join(tokens[w:w+2])))\n",
    "cc=Counter(ooo) \n",
    "cc "
   ]
  },
  {
   "cell_type": "code",
   "execution_count": 45,
   "metadata": {},
   "outputs": [],
   "source": [
    "n = 4\n",
    "ngrams_c = {}\n",
    "ngram = []\n",
    "unigram = []\n",
    "bigram = []\n",
    "trigram = []  \n",
    "with open(\"./data/europarl-corpus.txt\") as f:\n",
    "    lines2 = f.readlines()\n",
    "    random.shuffle(lines2)\n",
    "    training = lines2\n",
    "\n",
    "    for line in training:\n",
    "        tokens = (split_lines(line,n)).split()\n",
    "        for w in range(0,len(tokens)):\n",
    "            unigram.append((\"\".join(tokens[w])))\n",
    "    ngrams_c[1] = Counter(unigram)  \n",
    "\n",
    "    for line in training:\n",
    "        tokens = (split_lines(line,n)).split()\n",
    "        for w in range(0,len(tokens)-1):\n",
    "            bigram.append((\"\".join(tokens[w:w+2])))\n",
    "    ngrams_c[2] = Counter(bigram)\n",
    "\n",
    "    for line in training:\n",
    "        tokens = (split_lines(line,n)).split()\n",
    "        for w in range(0,len(tokens)-2):\n",
    "            trigram.append((\"\".join(tokens[w:w+3])))\n",
    "    ngrams_c[3] = Counter(trigram) \n",
    "\n",
    "    for line in training:\n",
    "        tokens = (split_lines(line,n)).split()\n",
    "        for w in range(0,len(tokens)-n+1):\n",
    "            ngram.append((\"\".join(tokens[w:w+n])))\n",
    "    ngrams_c[4] = Counter(ngram)   \n"
   ]
  },
  {
   "cell_type": "code",
   "execution_count": 46,
   "metadata": {},
   "outputs": [],
   "source": [
    "test=[]\n",
    "# test.append(input())\n",
    "test.append(\"lekvkjrb oiv vfke d\")"
   ]
  },
  {
   "cell_type": "code",
   "execution_count": 54,
   "metadata": {},
   "outputs": [],
   "source": [
    "t='w'"
   ]
  },
  {
   "cell_type": "code",
   "execution_count": 70,
   "metadata": {},
   "outputs": [],
   "source": [
    "i = 0\n",
    "for line in test:\n",
    "    inp =split_lines(line,4)\n",
    "    words = inp.split()\n",
    "    tex = []\n",
    "    ngram_inp = []\n",
    "    for x in range(0,len(words)-n+1):\n",
    "        tex.append((\" \".join(words[x:x+n])))\n",
    "    ngram_inp = Counter(tex)\n",
    "\n",
    "    # N=len(ngram_inp)\n",
    "    # if t=='w' and True:\n",
    "    #     p = 1\n",
    "    #     for gram in ngram_inp:\n",
    "    #         gram=tuple(gram.split())\n",
    "    #         pp = ( 1.0 / witten(gram))**(1.0/N)\n",
    "    #         p = p*pp\n",
    "    #     print(p)  \n",
    "    # else:\n",
    "    #     p = 1\n",
    "    #     for gram in ngram_inp:\n",
    "    #         pp = ( 1.0 / kneser(gram,len(gram)))**(1.0/N)\n",
    "    #         p = p*pp\n",
    "    #     print(p)  \n"
   ]
  },
  {
   "cell_type": "code",
   "execution_count": 71,
   "metadata": {},
   "outputs": [
    {
     "data": {
      "text/plain": [
       "Counter({'<START> <START> <START> lekvkjrb': 1,\n",
       "         '<START> <START> lekvkjrb oiv': 1,\n",
       "         '<START> lekvkjrb oiv vfke': 1,\n",
       "         'lekvkjrb oiv vfke d': 1,\n",
       "         'oiv vfke d <END>': 1,\n",
       "         'vfke d <END> <END>': 1,\n",
       "         'd <END> <END> <END>': 1})"
      ]
     },
     "execution_count": 71,
     "metadata": {},
     "output_type": "execute_result"
    }
   ],
   "source": [
    "ngram_inp"
   ]
  },
  {
   "cell_type": "code",
   "execution_count": 81,
   "metadata": {},
   "outputs": [
    {
     "name": "stdout",
     "output_type": "stream",
     "text": [
      "('<', 'S', 'T', 'A', 'R', 'T', '>', ' ', '<', 'S', 'T', 'A', 'R', 'T', '>', ' ', '<', 'S', 'T', 'A', 'R', 'T', '>', ' ', 'l', 'e', 'k', 'v', 'k', 'j', 'r', 'b')\n"
     ]
    },
    {
     "ename": "KeyError",
     "evalue": "31",
     "output_type": "error",
     "traceback": [
      "\u001b[0;31m---------------------------------------------------------------------------\u001b[0m",
      "\u001b[0;31mKeyError\u001b[0m                                  Traceback (most recent call last)",
      "Input \u001b[0;32mIn [81]\u001b[0m, in \u001b[0;36m<module>\u001b[0;34m\u001b[0m\n\u001b[1;32m      1\u001b[0m \u001b[38;5;28;01mfor\u001b[39;00m gram \u001b[38;5;129;01min\u001b[39;00m ngram_inp:\n\u001b[1;32m      2\u001b[0m     \u001b[38;5;28mprint\u001b[39m(\u001b[38;5;28mtuple\u001b[39m(gram))\n\u001b[0;32m----> 3\u001b[0m     pp \u001b[38;5;241m=\u001b[39m ( \u001b[38;5;241m1.0\u001b[39m \u001b[38;5;241m/\u001b[39m \u001b[43mwitten\u001b[49m\u001b[43m(\u001b[49m\u001b[43mgram\u001b[49m\u001b[43m)\u001b[49m)\u001b[38;5;241m*\u001b[39m\u001b[38;5;241m*\u001b[39m(\u001b[38;5;241m1.0\u001b[39m\u001b[38;5;241m/\u001b[39m\u001b[38;5;241m1\u001b[39m)\n\u001b[1;32m      4\u001b[0m     p \u001b[38;5;241m=\u001b[39m p\u001b[38;5;241m*\u001b[39mpp\n",
      "Input \u001b[0;32mIn [79]\u001b[0m, in \u001b[0;36mwitten\u001b[0;34m(gram)\u001b[0m\n\u001b[1;32m     29\u001b[0m \u001b[38;5;28;01mif\u001b[39;00m x \u001b[38;5;241m==\u001b[39m \u001b[38;5;241m1\u001b[39m:\n\u001b[1;32m     30\u001b[0m     \u001b[38;5;28;01mreturn\u001b[39;00m find_val(gram) \u001b[38;5;241m/\u001b[39m \u001b[38;5;28msum\u001b[39m(ngrams_c[\u001b[38;5;241m1\u001b[39m]\u001b[38;5;241m.\u001b[39mvalues())\n\u001b[0;32m---> 31\u001b[0m \u001b[38;5;28;01mif\u001b[39;00m(\u001b[43mfind_val\u001b[49m\u001b[43m(\u001b[49m\u001b[43mgram\u001b[49m\u001b[43m[\u001b[49m\u001b[43m:\u001b[49m\u001b[38;5;241;43m-\u001b[39;49m\u001b[38;5;241;43m1\u001b[39;49m\u001b[43m]\u001b[49m\u001b[43m)\u001b[49m \u001b[38;5;241m!=\u001b[39m \u001b[38;5;241m0\u001b[39m):\n\u001b[1;32m     32\u001b[0m     \u001b[38;5;28;01mreturn\u001b[39;00m ((\u001b[38;5;241m1\u001b[39m \u001b[38;5;241m-\u001b[39m witten2(gram[:\u001b[38;5;241m-\u001b[39m\u001b[38;5;241m1\u001b[39m])) \u001b[38;5;241m*\u001b[39m (find_val(gram) \u001b[38;5;241m/\u001b[39m find_val(gram[:\u001b[38;5;241m-\u001b[39m\u001b[38;5;241m1\u001b[39m]))) \u001b[38;5;241m+\u001b[39m (witten2(gram[:\u001b[38;5;241m-\u001b[39m\u001b[38;5;241m1\u001b[39m]) \u001b[38;5;241m*\u001b[39m witten(gram[:\u001b[38;5;241m-\u001b[39m\u001b[38;5;241m1\u001b[39m]))\n\u001b[1;32m     33\u001b[0m \u001b[38;5;28;01melse\u001b[39;00m:\n",
      "Input \u001b[0;32mIn [79]\u001b[0m, in \u001b[0;36mfind_val\u001b[0;34m(gram)\u001b[0m\n\u001b[1;32m      8\u001b[0m \u001b[38;5;28;01mif\u001b[39;00m \u001b[38;5;28mlen\u001b[39m(gram) \u001b[38;5;241m==\u001b[39m \u001b[38;5;241m0\u001b[39m:\n\u001b[1;32m      9\u001b[0m     \u001b[38;5;28;01mreturn\u001b[39;00m \u001b[38;5;28msum\u001b[39m(ngrams_c[\u001b[38;5;241m1\u001b[39m]\u001b[38;5;241m.\u001b[39mvalues())\n\u001b[0;32m---> 10\u001b[0m \u001b[38;5;28;01mif\u001b[39;00m gram \u001b[38;5;129;01min\u001b[39;00m \u001b[43mngrams_c\u001b[49m\u001b[43m[\u001b[49m\u001b[38;5;28;43mlen\u001b[39;49m\u001b[43m(\u001b[49m\u001b[43mgram\u001b[49m\u001b[43m)\u001b[49m\u001b[43m]\u001b[49m\u001b[38;5;241m.\u001b[39mkeys():\n\u001b[1;32m     11\u001b[0m     \u001b[38;5;28;01mreturn\u001b[39;00m ngrams_c[\u001b[38;5;28mlen\u001b[39m(gram)][\u001b[38;5;124m\"\u001b[39m\u001b[38;5;124m \u001b[39m\u001b[38;5;124m\"\u001b[39m\u001b[38;5;241m.\u001b[39mjoin(gram)] \n\u001b[1;32m     12\u001b[0m \u001b[38;5;28;01melse\u001b[39;00m:\n",
      "\u001b[0;31mKeyError\u001b[0m: 31"
     ]
    }
   ],
   "source": [
    "for gram in ngram_inp:\n",
    "    print(tuple(gram))\n",
    "    pp = ( 1.0 / witten(gram))**(1.0/1)\n",
    "    p = p*pp"
   ]
  },
  {
   "cell_type": "code",
   "execution_count": 66,
   "metadata": {},
   "outputs": [],
   "source": [
    "val=\"<START> <START> <START> lekvkjrb\""
   ]
  },
  {
   "cell_type": "code",
   "execution_count": 67,
   "metadata": {},
   "outputs": [
    {
     "data": {
      "text/plain": [
       "('<START>', '<START>', '<START>', 'lekvkjrb')"
      ]
     },
     "execution_count": 67,
     "metadata": {},
     "output_type": "execute_result"
    }
   ],
   "source": [
    "val=tuple(val.split())\n",
    "val"
   ]
  },
  {
   "cell_type": "code",
   "execution_count": 82,
   "metadata": {},
   "outputs": [
    {
     "name": "stderr",
     "output_type": "stream",
     "text": [
      "[nltk_data] Downloading package punkt to /home/bhavya/nltk_data...\n",
      "[nltk_data]   Package punkt is already up-to-date!\n"
     ]
    },
    {
     "data": {
      "text/plain": [
       "True"
      ]
     },
     "execution_count": 82,
     "metadata": {},
     "output_type": "execute_result"
    }
   ],
   "source": [
    "import nltk\n",
    "nltk.download(\"punkt\")"
   ]
  },
  {
   "cell_type": "code",
   "execution_count": 83,
   "metadata": {},
   "outputs": [],
   "source": [
    "val=\"kjre tht jgjt jg lwkjh gjkgh j\""
   ]
  },
  {
   "cell_type": "code",
   "execution_count": 84,
   "metadata": {},
   "outputs": [
    {
     "data": {
      "text/plain": [
       "['kjre', 'tht', 'jgjt', 'jg', 'lwkjh', 'gjkgh', 'j']"
      ]
     },
     "execution_count": 84,
     "metadata": {},
     "output_type": "execute_result"
    }
   ],
   "source": [
    "nltk.word_tokenize(val)"
   ]
  },
  {
   "cell_type": "code",
   "execution_count": 86,
   "metadata": {},
   "outputs": [
    {
     "data": {
      "text/plain": [
       "['kjre', 'tht', 'jgjt', 'jg', 'lwkjh', 'gjkgh', 'j']"
      ]
     },
     "execution_count": 86,
     "metadata": {},
     "output_type": "execute_result"
    }
   ],
   "source": [
    "split_lines(val,n,False).split()"
   ]
  },
  {
   "cell_type": "code",
   "execution_count": null,
   "metadata": {},
   "outputs": [],
   "source": []
  }
 ],
 "metadata": {
  "interpreter": {
   "hash": "916dbcbb3f70747c44a77c7bcd40155683ae19c65e1c03b4aa3499c5328201f1"
  },
  "kernelspec": {
   "display_name": "Python 3.8.10 64-bit",
   "language": "python",
   "name": "python3"
  },
  "language_info": {
   "codemirror_mode": {
    "name": "ipython",
    "version": 3
   },
   "file_extension": ".py",
   "mimetype": "text/x-python",
   "name": "python",
   "nbconvert_exporter": "python",
   "pygments_lexer": "ipython3",
   "version": "3.8.10"
  },
  "orig_nbformat": 4
 },
 "nbformat": 4,
 "nbformat_minor": 2
}
